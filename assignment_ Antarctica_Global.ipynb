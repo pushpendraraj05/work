{
 "cells": [
  {
   "cell_type": "markdown",
   "id": "158894d7",
   "metadata": {},
   "source": [
    "## Loading and Reading Dataset\n",
    "### importing packages pandas"
   ]
  },
  {
   "cell_type": "code",
   "execution_count": 72,
   "id": "4ce1f341",
   "metadata": {},
   "outputs": [],
   "source": [
    "import pandas as pd"
   ]
  },
  {
   "cell_type": "code",
   "execution_count": 73,
   "id": "8537e916",
   "metadata": {},
   "outputs": [],
   "source": [
    "df=pd.read_excel(\"C:\\\\Users\\\\rajpu\\\\Downloads\\\\Data Assignment.xlsx\",sheet_name= ['Associate ABC', 'Associate XYZ', 'Associlate KLM'])"
   ]
  },
  {
   "cell_type": "code",
   "execution_count": 74,
   "id": "eef2b1df",
   "metadata": {},
   "outputs": [
    {
     "name": "stdout",
     "output_type": "stream",
     "text": [
      "{'Associate ABC':          Date  No of Leads  Time Spent on LG (in mins)\n",
      "0  2023-01-09          2.0                       300.0\n",
      "1  2023-01-10          1.0                       300.0\n",
      "2  2023-01-11          5.0                       300.0\n",
      "3  2023-01-12          4.0                       300.0\n",
      "4  2023-01-13          5.0                       300.0\n",
      "..        ...          ...                         ...\n",
      "77 2023-02-06          NaN                         4.0\n",
      "78 2023-02-07          NaN                         2.0\n",
      "79 2023-02-08          NaN                         0.0\n",
      "80 2023-02-09          NaN                         0.0\n",
      "81 2023-02-10          NaN                        14.0\n",
      "\n",
      "[82 rows x 3 columns], 'Associate XYZ':          Date  No of Leads  Time Spent on LG (in mins)\n",
      "0  2023-01-09         10.0                       180.0\n",
      "1  2023-01-10         15.0                       300.0\n",
      "2  2023-01-11         11.0                       300.0\n",
      "3  2023-01-12         11.0                       300.0\n",
      "4  2023-01-13         13.0                       300.0\n",
      "..        ...          ...                         ...\n",
      "56 2023-03-06         12.0                       420.0\n",
      "57 2023-03-07          NaN                         NaN\n",
      "58 2023-03-08         10.0                       420.0\n",
      "59 2023-03-09          9.0                       420.0\n",
      "60 2023-03-10          7.0                       360.0\n",
      "\n",
      "[61 rows x 3 columns], 'Associlate KLM':           Date  No of Leads  Time Spent on LG\n",
      "0   2023-01-09          6.0             540.0\n",
      "1   2023-01-10          9.0             540.0\n",
      "2   2023-01-11          NaN               NaN\n",
      "3   2023-01-12         11.0             540.0\n",
      "4   2023-01-13         16.0             540.0\n",
      "..         ...          ...               ...\n",
      "119 2023-05-08         10.0             420.0\n",
      "120 2023-05-09          9.0             540.0\n",
      "121 2023-05-10          8.0             360.0\n",
      "122 2023-05-11         12.0             420.0\n",
      "123 2023-05-12         11.0             300.0\n",
      "\n",
      "[124 rows x 3 columns]}\n"
     ]
    }
   ],
   "source": [
    "print(df)"
   ]
  },
  {
   "cell_type": "code",
   "execution_count": 75,
   "id": "ea5fe9d2",
   "metadata": {},
   "outputs": [],
   "source": [
    "Associate_ABC=pd.read_excel(\"C:\\\\Users\\\\rajpu\\\\Downloads\\\\Data Assignment.xlsx\",sheet_name=['Associate ABC'])"
   ]
  },
  {
   "cell_type": "code",
   "execution_count": 76,
   "id": "f692571e",
   "metadata": {},
   "outputs": [
    {
     "data": {
      "text/plain": [
       "{'Associate ABC':          Date  No of Leads  Time Spent on LG (in mins)\n",
       " 0  2023-01-09          2.0                       300.0\n",
       " 1  2023-01-10          1.0                       300.0\n",
       " 2  2023-01-11          5.0                       300.0\n",
       " 3  2023-01-12          4.0                       300.0\n",
       " 4  2023-01-13          5.0                       300.0\n",
       " ..        ...          ...                         ...\n",
       " 77 2023-02-06          NaN                         4.0\n",
       " 78 2023-02-07          NaN                         2.0\n",
       " 79 2023-02-08          NaN                         0.0\n",
       " 80 2023-02-09          NaN                         0.0\n",
       " 81 2023-02-10          NaN                        14.0\n",
       " \n",
       " [82 rows x 3 columns]}"
      ]
     },
     "execution_count": 76,
     "metadata": {},
     "output_type": "execute_result"
    }
   ],
   "source": [
    "Associate_ABC"
   ]
  },
  {
   "cell_type": "code",
   "execution_count": 77,
   "id": "b7071de7",
   "metadata": {},
   "outputs": [],
   "source": [
    "Associate_XYZ=pd.read_excel(\"C:\\\\Users\\\\rajpu\\\\Downloads\\\\Data Assignment.xlsx\",sheet_name=['Associate XYZ'])"
   ]
  },
  {
   "cell_type": "code",
   "execution_count": 78,
   "id": "48c707ac",
   "metadata": {},
   "outputs": [
    {
     "data": {
      "text/plain": [
       "{'Associate XYZ':          Date  No of Leads  Time Spent on LG (in mins)\n",
       " 0  2023-01-09         10.0                       180.0\n",
       " 1  2023-01-10         15.0                       300.0\n",
       " 2  2023-01-11         11.0                       300.0\n",
       " 3  2023-01-12         11.0                       300.0\n",
       " 4  2023-01-13         13.0                       300.0\n",
       " ..        ...          ...                         ...\n",
       " 56 2023-03-06         12.0                       420.0\n",
       " 57 2023-03-07          NaN                         NaN\n",
       " 58 2023-03-08         10.0                       420.0\n",
       " 59 2023-03-09          9.0                       420.0\n",
       " 60 2023-03-10          7.0                       360.0\n",
       " \n",
       " [61 rows x 3 columns]}"
      ]
     },
     "execution_count": 78,
     "metadata": {},
     "output_type": "execute_result"
    }
   ],
   "source": [
    "Associate_XYZ"
   ]
  },
  {
   "cell_type": "code",
   "execution_count": 79,
   "id": "7a743435",
   "metadata": {},
   "outputs": [],
   "source": [
    "Associlate_KLM=pd.read_excel(\"C:\\\\Users\\\\rajpu\\\\Downloads\\\\Data Assignment.xlsx\",sheet_name=['Associlate KLM'])"
   ]
  },
  {
   "cell_type": "code",
   "execution_count": 80,
   "id": "24939da7",
   "metadata": {},
   "outputs": [
    {
     "data": {
      "text/plain": [
       "{'Associlate KLM':           Date  No of Leads  Time Spent on LG\n",
       " 0   2023-01-09          6.0             540.0\n",
       " 1   2023-01-10          9.0             540.0\n",
       " 2   2023-01-11          NaN               NaN\n",
       " 3   2023-01-12         11.0             540.0\n",
       " 4   2023-01-13         16.0             540.0\n",
       " ..         ...          ...               ...\n",
       " 119 2023-05-08         10.0             420.0\n",
       " 120 2023-05-09          9.0             540.0\n",
       " 121 2023-05-10          8.0             360.0\n",
       " 122 2023-05-11         12.0             420.0\n",
       " 123 2023-05-12         11.0             300.0\n",
       " \n",
       " [124 rows x 3 columns]}"
      ]
     },
     "execution_count": 80,
     "metadata": {},
     "output_type": "execute_result"
    }
   ],
   "source": [
    "Associlate_KLM"
   ]
  },
  {
   "cell_type": "markdown",
   "id": "61a6c121",
   "metadata": {},
   "source": [
    "####  sheet_name=None is equivalent to specifying that you want to read all sheets. The resulting dfs dictionary will contain a DataFrame for each sheet in the Excel file, and the keys of the dictionary will be the sheet names."
   ]
  },
  {
   "cell_type": "markdown",
   "id": "e361c2a4",
   "metadata": {},
   "source": [
    "## Converting dict into DataFrame"
   ]
  },
  {
   "cell_type": "code",
   "execution_count": 81,
   "id": "d5ee7390",
   "metadata": {},
   "outputs": [
    {
     "data": {
      "text/html": [
       "<div>\n",
       "<style scoped>\n",
       "    .dataframe tbody tr th:only-of-type {\n",
       "        vertical-align: middle;\n",
       "    }\n",
       "\n",
       "    .dataframe tbody tr th {\n",
       "        vertical-align: top;\n",
       "    }\n",
       "\n",
       "    .dataframe thead th {\n",
       "        text-align: right;\n",
       "    }\n",
       "</style>\n",
       "<table border=\"1\" class=\"dataframe\">\n",
       "  <thead>\n",
       "    <tr style=\"text-align: right;\">\n",
       "      <th></th>\n",
       "      <th>Date</th>\n",
       "      <th>No of Leads</th>\n",
       "      <th>Time Spent on LG (in mins)</th>\n",
       "    </tr>\n",
       "  </thead>\n",
       "  <tbody>\n",
       "    <tr>\n",
       "      <th>0</th>\n",
       "      <td>2023-01-09</td>\n",
       "      <td>2.0</td>\n",
       "      <td>300.0</td>\n",
       "    </tr>\n",
       "    <tr>\n",
       "      <th>1</th>\n",
       "      <td>2023-01-10</td>\n",
       "      <td>1.0</td>\n",
       "      <td>300.0</td>\n",
       "    </tr>\n",
       "    <tr>\n",
       "      <th>2</th>\n",
       "      <td>2023-01-11</td>\n",
       "      <td>5.0</td>\n",
       "      <td>300.0</td>\n",
       "    </tr>\n",
       "    <tr>\n",
       "      <th>3</th>\n",
       "      <td>2023-01-12</td>\n",
       "      <td>4.0</td>\n",
       "      <td>300.0</td>\n",
       "    </tr>\n",
       "    <tr>\n",
       "      <th>4</th>\n",
       "      <td>2023-01-13</td>\n",
       "      <td>5.0</td>\n",
       "      <td>300.0</td>\n",
       "    </tr>\n",
       "    <tr>\n",
       "      <th>...</th>\n",
       "      <td>...</td>\n",
       "      <td>...</td>\n",
       "      <td>...</td>\n",
       "    </tr>\n",
       "    <tr>\n",
       "      <th>77</th>\n",
       "      <td>2023-02-06</td>\n",
       "      <td>NaN</td>\n",
       "      <td>4.0</td>\n",
       "    </tr>\n",
       "    <tr>\n",
       "      <th>78</th>\n",
       "      <td>2023-02-07</td>\n",
       "      <td>NaN</td>\n",
       "      <td>2.0</td>\n",
       "    </tr>\n",
       "    <tr>\n",
       "      <th>79</th>\n",
       "      <td>2023-02-08</td>\n",
       "      <td>NaN</td>\n",
       "      <td>0.0</td>\n",
       "    </tr>\n",
       "    <tr>\n",
       "      <th>80</th>\n",
       "      <td>2023-02-09</td>\n",
       "      <td>NaN</td>\n",
       "      <td>0.0</td>\n",
       "    </tr>\n",
       "    <tr>\n",
       "      <th>81</th>\n",
       "      <td>2023-02-10</td>\n",
       "      <td>NaN</td>\n",
       "      <td>14.0</td>\n",
       "    </tr>\n",
       "  </tbody>\n",
       "</table>\n",
       "<p>82 rows × 3 columns</p>\n",
       "</div>"
      ],
      "text/plain": [
       "         Date  No of Leads  Time Spent on LG (in mins)\n",
       "0  2023-01-09          2.0                       300.0\n",
       "1  2023-01-10          1.0                       300.0\n",
       "2  2023-01-11          5.0                       300.0\n",
       "3  2023-01-12          4.0                       300.0\n",
       "4  2023-01-13          5.0                       300.0\n",
       "..        ...          ...                         ...\n",
       "77 2023-02-06          NaN                         4.0\n",
       "78 2023-02-07          NaN                         2.0\n",
       "79 2023-02-08          NaN                         0.0\n",
       "80 2023-02-09          NaN                         0.0\n",
       "81 2023-02-10          NaN                        14.0\n",
       "\n",
       "[82 rows x 3 columns]"
      ]
     },
     "execution_count": 81,
     "metadata": {},
     "output_type": "execute_result"
    }
   ],
   "source": [
    "abc=pd.concat(Associate_ABC.values(),ignore_index=True)\n",
    "abc"
   ]
  },
  {
   "cell_type": "code",
   "execution_count": 82,
   "id": "5f7d728b",
   "metadata": {},
   "outputs": [
    {
     "data": {
      "text/html": [
       "<div>\n",
       "<style scoped>\n",
       "    .dataframe tbody tr th:only-of-type {\n",
       "        vertical-align: middle;\n",
       "    }\n",
       "\n",
       "    .dataframe tbody tr th {\n",
       "        vertical-align: top;\n",
       "    }\n",
       "\n",
       "    .dataframe thead th {\n",
       "        text-align: right;\n",
       "    }\n",
       "</style>\n",
       "<table border=\"1\" class=\"dataframe\">\n",
       "  <thead>\n",
       "    <tr style=\"text-align: right;\">\n",
       "      <th></th>\n",
       "      <th>Date</th>\n",
       "      <th>No of Leads</th>\n",
       "      <th>Time Spent on LG (in mins)</th>\n",
       "    </tr>\n",
       "  </thead>\n",
       "  <tbody>\n",
       "    <tr>\n",
       "      <th>0</th>\n",
       "      <td>2023-01-09</td>\n",
       "      <td>10.0</td>\n",
       "      <td>180.0</td>\n",
       "    </tr>\n",
       "    <tr>\n",
       "      <th>1</th>\n",
       "      <td>2023-01-10</td>\n",
       "      <td>15.0</td>\n",
       "      <td>300.0</td>\n",
       "    </tr>\n",
       "    <tr>\n",
       "      <th>2</th>\n",
       "      <td>2023-01-11</td>\n",
       "      <td>11.0</td>\n",
       "      <td>300.0</td>\n",
       "    </tr>\n",
       "    <tr>\n",
       "      <th>3</th>\n",
       "      <td>2023-01-12</td>\n",
       "      <td>11.0</td>\n",
       "      <td>300.0</td>\n",
       "    </tr>\n",
       "    <tr>\n",
       "      <th>4</th>\n",
       "      <td>2023-01-13</td>\n",
       "      <td>13.0</td>\n",
       "      <td>300.0</td>\n",
       "    </tr>\n",
       "    <tr>\n",
       "      <th>...</th>\n",
       "      <td>...</td>\n",
       "      <td>...</td>\n",
       "      <td>...</td>\n",
       "    </tr>\n",
       "    <tr>\n",
       "      <th>56</th>\n",
       "      <td>2023-03-06</td>\n",
       "      <td>12.0</td>\n",
       "      <td>420.0</td>\n",
       "    </tr>\n",
       "    <tr>\n",
       "      <th>57</th>\n",
       "      <td>2023-03-07</td>\n",
       "      <td>NaN</td>\n",
       "      <td>NaN</td>\n",
       "    </tr>\n",
       "    <tr>\n",
       "      <th>58</th>\n",
       "      <td>2023-03-08</td>\n",
       "      <td>10.0</td>\n",
       "      <td>420.0</td>\n",
       "    </tr>\n",
       "    <tr>\n",
       "      <th>59</th>\n",
       "      <td>2023-03-09</td>\n",
       "      <td>9.0</td>\n",
       "      <td>420.0</td>\n",
       "    </tr>\n",
       "    <tr>\n",
       "      <th>60</th>\n",
       "      <td>2023-03-10</td>\n",
       "      <td>7.0</td>\n",
       "      <td>360.0</td>\n",
       "    </tr>\n",
       "  </tbody>\n",
       "</table>\n",
       "<p>61 rows × 3 columns</p>\n",
       "</div>"
      ],
      "text/plain": [
       "         Date  No of Leads  Time Spent on LG (in mins)\n",
       "0  2023-01-09         10.0                       180.0\n",
       "1  2023-01-10         15.0                       300.0\n",
       "2  2023-01-11         11.0                       300.0\n",
       "3  2023-01-12         11.0                       300.0\n",
       "4  2023-01-13         13.0                       300.0\n",
       "..        ...          ...                         ...\n",
       "56 2023-03-06         12.0                       420.0\n",
       "57 2023-03-07          NaN                         NaN\n",
       "58 2023-03-08         10.0                       420.0\n",
       "59 2023-03-09          9.0                       420.0\n",
       "60 2023-03-10          7.0                       360.0\n",
       "\n",
       "[61 rows x 3 columns]"
      ]
     },
     "execution_count": 82,
     "metadata": {},
     "output_type": "execute_result"
    }
   ],
   "source": [
    "xyz=pd.concat(Associate_XYZ.values(),ignore_index=True)\n",
    "xyz"
   ]
  },
  {
   "cell_type": "code",
   "execution_count": 83,
   "id": "4e1595ee",
   "metadata": {},
   "outputs": [
    {
     "data": {
      "text/html": [
       "<div>\n",
       "<style scoped>\n",
       "    .dataframe tbody tr th:only-of-type {\n",
       "        vertical-align: middle;\n",
       "    }\n",
       "\n",
       "    .dataframe tbody tr th {\n",
       "        vertical-align: top;\n",
       "    }\n",
       "\n",
       "    .dataframe thead th {\n",
       "        text-align: right;\n",
       "    }\n",
       "</style>\n",
       "<table border=\"1\" class=\"dataframe\">\n",
       "  <thead>\n",
       "    <tr style=\"text-align: right;\">\n",
       "      <th></th>\n",
       "      <th>Date</th>\n",
       "      <th>No of Leads</th>\n",
       "      <th>Time Spent on LG</th>\n",
       "    </tr>\n",
       "  </thead>\n",
       "  <tbody>\n",
       "    <tr>\n",
       "      <th>0</th>\n",
       "      <td>2023-01-09</td>\n",
       "      <td>6.0</td>\n",
       "      <td>540.0</td>\n",
       "    </tr>\n",
       "    <tr>\n",
       "      <th>1</th>\n",
       "      <td>2023-01-10</td>\n",
       "      <td>9.0</td>\n",
       "      <td>540.0</td>\n",
       "    </tr>\n",
       "    <tr>\n",
       "      <th>2</th>\n",
       "      <td>2023-01-11</td>\n",
       "      <td>NaN</td>\n",
       "      <td>NaN</td>\n",
       "    </tr>\n",
       "    <tr>\n",
       "      <th>3</th>\n",
       "      <td>2023-01-12</td>\n",
       "      <td>11.0</td>\n",
       "      <td>540.0</td>\n",
       "    </tr>\n",
       "    <tr>\n",
       "      <th>4</th>\n",
       "      <td>2023-01-13</td>\n",
       "      <td>16.0</td>\n",
       "      <td>540.0</td>\n",
       "    </tr>\n",
       "    <tr>\n",
       "      <th>...</th>\n",
       "      <td>...</td>\n",
       "      <td>...</td>\n",
       "      <td>...</td>\n",
       "    </tr>\n",
       "    <tr>\n",
       "      <th>119</th>\n",
       "      <td>2023-05-08</td>\n",
       "      <td>10.0</td>\n",
       "      <td>420.0</td>\n",
       "    </tr>\n",
       "    <tr>\n",
       "      <th>120</th>\n",
       "      <td>2023-05-09</td>\n",
       "      <td>9.0</td>\n",
       "      <td>540.0</td>\n",
       "    </tr>\n",
       "    <tr>\n",
       "      <th>121</th>\n",
       "      <td>2023-05-10</td>\n",
       "      <td>8.0</td>\n",
       "      <td>360.0</td>\n",
       "    </tr>\n",
       "    <tr>\n",
       "      <th>122</th>\n",
       "      <td>2023-05-11</td>\n",
       "      <td>12.0</td>\n",
       "      <td>420.0</td>\n",
       "    </tr>\n",
       "    <tr>\n",
       "      <th>123</th>\n",
       "      <td>2023-05-12</td>\n",
       "      <td>11.0</td>\n",
       "      <td>300.0</td>\n",
       "    </tr>\n",
       "  </tbody>\n",
       "</table>\n",
       "<p>124 rows × 3 columns</p>\n",
       "</div>"
      ],
      "text/plain": [
       "          Date  No of Leads  Time Spent on LG\n",
       "0   2023-01-09          6.0             540.0\n",
       "1   2023-01-10          9.0             540.0\n",
       "2   2023-01-11          NaN               NaN\n",
       "3   2023-01-12         11.0             540.0\n",
       "4   2023-01-13         16.0             540.0\n",
       "..         ...          ...               ...\n",
       "119 2023-05-08         10.0             420.0\n",
       "120 2023-05-09          9.0             540.0\n",
       "121 2023-05-10          8.0             360.0\n",
       "122 2023-05-11         12.0             420.0\n",
       "123 2023-05-12         11.0             300.0\n",
       "\n",
       "[124 rows x 3 columns]"
      ]
     },
     "execution_count": 83,
     "metadata": {},
     "output_type": "execute_result"
    }
   ],
   "source": [
    "klm= pd.concat(Associlate_KLM.values(),ignore_index=True)\n",
    "klm"
   ]
  },
  {
   "cell_type": "code",
   "execution_count": null,
   "id": "cd17f63d",
   "metadata": {},
   "outputs": [],
   "source": []
  },
  {
   "cell_type": "markdown",
   "id": "16cd7ac8",
   "metadata": {},
   "source": [
    "## Checking for missing values for each sheet"
   ]
  },
  {
   "cell_type": "code",
   "execution_count": 84,
   "id": "7cde39ca",
   "metadata": {},
   "outputs": [
    {
     "data": {
      "text/plain": [
       "Date                           0\n",
       "No of Leads                   34\n",
       "Time Spent on LG (in mins)    24\n",
       "dtype: int64"
      ]
     },
     "execution_count": 84,
     "metadata": {},
     "output_type": "execute_result"
    }
   ],
   "source": [
    "abc.isnull().sum()"
   ]
  },
  {
   "cell_type": "code",
   "execution_count": 85,
   "id": "7c46301d",
   "metadata": {},
   "outputs": [
    {
     "data": {
      "text/plain": [
       "Date                           0\n",
       "No of Leads                   20\n",
       "Time Spent on LG (in mins)    20\n",
       "dtype: int64"
      ]
     },
     "execution_count": 85,
     "metadata": {},
     "output_type": "execute_result"
    }
   ],
   "source": [
    "xyz.isnull().sum()"
   ]
  },
  {
   "cell_type": "code",
   "execution_count": 86,
   "id": "044986bf",
   "metadata": {},
   "outputs": [
    {
     "data": {
      "text/plain": [
       "Date                 0\n",
       "No of Leads         14\n",
       "Time Spent on LG    17\n",
       "dtype: int64"
      ]
     },
     "execution_count": 86,
     "metadata": {},
     "output_type": "execute_result"
    }
   ],
   "source": [
    "klm.isnull().sum()"
   ]
  },
  {
   "cell_type": "markdown",
   "id": "f73162d0",
   "metadata": {},
   "source": [
    "## Checking with DataTypes"
   ]
  },
  {
   "cell_type": "code",
   "execution_count": 87,
   "id": "ad2146ea",
   "metadata": {},
   "outputs": [
    {
     "data": {
      "text/plain": [
       "Date                          datetime64[ns]\n",
       "No of Leads                          float64\n",
       "Time Spent on LG (in mins)           float64\n",
       "dtype: object"
      ]
     },
     "execution_count": 87,
     "metadata": {},
     "output_type": "execute_result"
    }
   ],
   "source": [
    "abc.dtypes"
   ]
  },
  {
   "cell_type": "code",
   "execution_count": 88,
   "id": "afb7c450",
   "metadata": {},
   "outputs": [
    {
     "data": {
      "text/plain": [
       "Date                          datetime64[ns]\n",
       "No of Leads                          float64\n",
       "Time Spent on LG (in mins)           float64\n",
       "dtype: object"
      ]
     },
     "execution_count": 88,
     "metadata": {},
     "output_type": "execute_result"
    }
   ],
   "source": [
    "xyz.dtypes"
   ]
  },
  {
   "cell_type": "code",
   "execution_count": 89,
   "id": "a704f5dc",
   "metadata": {},
   "outputs": [
    {
     "data": {
      "text/plain": [
       "Date                datetime64[ns]\n",
       "No of Leads                float64\n",
       "Time Spent on LG           float64\n",
       "dtype: object"
      ]
     },
     "execution_count": 89,
     "metadata": {},
     "output_type": "execute_result"
    }
   ],
   "source": [
    "klm.dtypes"
   ]
  },
  {
   "cell_type": "markdown",
   "id": "b7934bf9",
   "metadata": {},
   "source": [
    "## Boxplot Visuals for Outliers\n",
    "### importing packages matplotlib and seaborn"
   ]
  },
  {
   "cell_type": "code",
   "execution_count": 90,
   "id": "f9aed4b4",
   "metadata": {},
   "outputs": [],
   "source": [
    "import matplotlib.pyplot as plot"
   ]
  },
  {
   "cell_type": "code",
   "execution_count": 91,
   "id": "6f742f31",
   "metadata": {},
   "outputs": [],
   "source": [
    "import seaborn as sns"
   ]
  },
  {
   "cell_type": "code",
   "execution_count": 92,
   "id": "c393dd82",
   "metadata": {},
   "outputs": [
    {
     "data": {
      "image/png": "[encoded data removed]",
      "text/plain": [
       "<Figure size 432x288 with 1 Axes>"
      ]
     },
     "metadata": {
      "needs_background": "light"
     },
     "output_type": "display_data"
    }
   ],
   "source": [
    "# Create plot box for multiple columns\n",
    "abc_plot = abc.boxplot(column = ['No of Leads','Time Spent on LG (in mins)']) \n",
    "abc_plot.plot()\n",
    "plot.title(\"ABC Associate\")\n",
    "plot.show()"
   ]
  },
  {
   "cell_type": "code",
   "execution_count": 93,
   "id": "3b8bca44",
   "metadata": {},
   "outputs": [
    {
     "data": {
      "image/png": "[encoded data removed]",
      "text/plain": [
       "<Figure size 432x288 with 1 Axes>"
      ]
     },
     "metadata": {
      "needs_background": "light"
     },
     "output_type": "display_data"
    }
   ],
   "source": [
    "xyz_plot = xyz.boxplot(column =['No of Leads','Time Spent on LG (in mins)']) \n",
    "plot.title(\"XYZ Associate\")\n",
    "xyz_plot.plot()\n",
    "plot.show()"
   ]
  },
  {
   "cell_type": "code",
   "execution_count": 94,
   "id": "f5fccbeb",
   "metadata": {},
   "outputs": [
    {
     "data": {
      "image/png": "[encoded data removed]",
      "text/plain": [
       "<Figure size 432x288 with 1 Axes>"
      ]
     },
     "metadata": {
      "needs_background": "light"
     },
     "output_type": "display_data"
    }
   ],
   "source": [
    "klm_plot = klm.boxplot(column =['No of Leads','Time Spent on LG']) \n",
    "plot.title(\"XYZ Associate\")\n",
    "klm_plot.plot()\n",
    "plot.show()"
   ]
  },
  {
   "cell_type": "code",
   "execution_count": 95,
   "id": "d03bfb35",
   "metadata": {},
   "outputs": [],
   "source": [
    "import numpy as np"
   ]
  },
  {
   "cell_type": "markdown",
   "id": "e425bfdb",
   "metadata": {},
   "source": [
    "## Defining outlier detection functions "
   ]
  },
  {
   "cell_type": "code",
   "execution_count": 96,
   "id": "868ec25d",
   "metadata": {},
   "outputs": [],
   "source": [
    "def detect_outliers_iqr(column, threshold=1.5):\n",
    "    Q1 = column.quantile(0.25)\n",
    "    Q3 = column.quantile(0.75)\n",
    "    IQR = Q3 - Q1\n",
    "    lower_bound = Q1 - threshold * IQR\n",
    "    upper_bound = Q3 + threshold * IQR\n",
    "    outliers = column[(column < lower_bound) | (column > upper_bound)]\n",
    "    return outliers"
   ]
  },
  {
   "cell_type": "markdown",
   "id": "3d46ea52",
   "metadata": {},
   "source": [
    "## DataFrame abc"
   ]
  },
  {
   "cell_type": "code",
   "execution_count": 97,
   "id": "250413cf",
   "metadata": {},
   "outputs": [],
   "source": [
    "# detect outliers for column 'No of Leads'\n",
    "column_of_interest = 'No of Leads'\n",
    "\n",
    "# Detect outliers using the IQR method\n",
    "outliers_abc_lead = detect_outliers_iqr(abc[column_of_interest])"
   ]
  },
  {
   "cell_type": "code",
   "execution_count": 98,
   "id": "afc178c0",
   "metadata": {},
   "outputs": [
    {
     "data": {
      "text/plain": [
       "Series([], Name: No of Leads, dtype: float64)"
      ]
     },
     "execution_count": 98,
     "metadata": {},
     "output_type": "execute_result"
    }
   ],
   "source": [
    "outliers_abc_lead"
   ]
  },
  {
   "cell_type": "code",
   "execution_count": 99,
   "id": "4ae2e20a",
   "metadata": {},
   "outputs": [],
   "source": [
    "# detect outliers for column 'Time Spent on LG (in mins)'\n",
    "column_of_interest = 'Time Spent on LG (in mins)'\n",
    "\n",
    "outliers_abc_time = detect_outliers_iqr(abc[column_of_interest])"
   ]
  },
  {
   "cell_type": "code",
   "execution_count": 100,
   "id": "9445c15d",
   "metadata": {},
   "outputs": [
    {
     "data": {
      "text/plain": [
       "31    540.0\n",
       "32    540.0\n",
       "35    540.0\n",
       "36    540.0\n",
       "37    540.0\n",
       "38    540.0\n",
       "39    540.0\n",
       "46     60.0\n",
       "53      0.0\n",
       "63    540.0\n",
       "70     12.0\n",
       "71      5.0\n",
       "72     15.0\n",
       "73     15.0\n",
       "74      5.0\n",
       "77      4.0\n",
       "78      2.0\n",
       "79      0.0\n",
       "80      0.0\n",
       "81     14.0\n",
       "Name: Time Spent on LG (in mins), dtype: float64"
      ]
     },
     "execution_count": 100,
     "metadata": {},
     "output_type": "execute_result"
    }
   ],
   "source": [
    "outliers_abc_time"
   ]
  },
  {
   "cell_type": "markdown",
   "id": "c45ac775",
   "metadata": {},
   "source": [
    "## droping outliers"
   ]
  },
  {
   "cell_type": "code",
   "execution_count": 101,
   "id": "551dfe96",
   "metadata": {},
   "outputs": [],
   "source": [
    "abc=abc.drop(outliers_abc_time.index)"
   ]
  },
  {
   "cell_type": "code",
   "execution_count": 102,
   "id": "191c2195",
   "metadata": {},
   "outputs": [
    {
     "data": {
      "text/html": [
       "<div>\n",
       "<style scoped>\n",
       "    .dataframe tbody tr th:only-of-type {\n",
       "        vertical-align: middle;\n",
       "    }\n",
       "\n",
       "    .dataframe tbody tr th {\n",
       "        vertical-align: top;\n",
       "    }\n",
       "\n",
       "    .dataframe thead th {\n",
       "        text-align: right;\n",
       "    }\n",
       "</style>\n",
       "<table border=\"1\" class=\"dataframe\">\n",
       "  <thead>\n",
       "    <tr style=\"text-align: right;\">\n",
       "      <th></th>\n",
       "      <th>Date</th>\n",
       "      <th>No of Leads</th>\n",
       "      <th>Time Spent on LG (in mins)</th>\n",
       "    </tr>\n",
       "  </thead>\n",
       "  <tbody>\n",
       "    <tr>\n",
       "      <th>0</th>\n",
       "      <td>2023-01-09</td>\n",
       "      <td>2.0</td>\n",
       "      <td>300.0</td>\n",
       "    </tr>\n",
       "    <tr>\n",
       "      <th>1</th>\n",
       "      <td>2023-01-10</td>\n",
       "      <td>1.0</td>\n",
       "      <td>300.0</td>\n",
       "    </tr>\n",
       "    <tr>\n",
       "      <th>2</th>\n",
       "      <td>2023-01-11</td>\n",
       "      <td>5.0</td>\n",
       "      <td>300.0</td>\n",
       "    </tr>\n",
       "    <tr>\n",
       "      <th>3</th>\n",
       "      <td>2023-01-12</td>\n",
       "      <td>4.0</td>\n",
       "      <td>300.0</td>\n",
       "    </tr>\n",
       "    <tr>\n",
       "      <th>4</th>\n",
       "      <td>2023-01-13</td>\n",
       "      <td>5.0</td>\n",
       "      <td>300.0</td>\n",
       "    </tr>\n",
       "    <tr>\n",
       "      <th>...</th>\n",
       "      <td>...</td>\n",
       "      <td>...</td>\n",
       "      <td>...</td>\n",
       "    </tr>\n",
       "    <tr>\n",
       "      <th>67</th>\n",
       "      <td>2023-01-27</td>\n",
       "      <td>6.0</td>\n",
       "      <td>400.0</td>\n",
       "    </tr>\n",
       "    <tr>\n",
       "      <th>68</th>\n",
       "      <td>2023-01-28</td>\n",
       "      <td>NaN</td>\n",
       "      <td>NaN</td>\n",
       "    </tr>\n",
       "    <tr>\n",
       "      <th>69</th>\n",
       "      <td>2023-01-29</td>\n",
       "      <td>NaN</td>\n",
       "      <td>NaN</td>\n",
       "    </tr>\n",
       "    <tr>\n",
       "      <th>75</th>\n",
       "      <td>2023-02-04</td>\n",
       "      <td>NaN</td>\n",
       "      <td>NaN</td>\n",
       "    </tr>\n",
       "    <tr>\n",
       "      <th>76</th>\n",
       "      <td>2023-02-05</td>\n",
       "      <td>NaN</td>\n",
       "      <td>NaN</td>\n",
       "    </tr>\n",
       "  </tbody>\n",
       "</table>\n",
       "<p>62 rows × 3 columns</p>\n",
       "</div>"
      ],
      "text/plain": [
       "         Date  No of Leads  Time Spent on LG (in mins)\n",
       "0  2023-01-09          2.0                       300.0\n",
       "1  2023-01-10          1.0                       300.0\n",
       "2  2023-01-11          5.0                       300.0\n",
       "3  2023-01-12          4.0                       300.0\n",
       "4  2023-01-13          5.0                       300.0\n",
       "..        ...          ...                         ...\n",
       "67 2023-01-27          6.0                       400.0\n",
       "68 2023-01-28          NaN                         NaN\n",
       "69 2023-01-29          NaN                         NaN\n",
       "75 2023-02-04          NaN                         NaN\n",
       "76 2023-02-05          NaN                         NaN\n",
       "\n",
       "[62 rows x 3 columns]"
      ]
     },
     "execution_count": 102,
     "metadata": {},
     "output_type": "execute_result"
    }
   ],
   "source": [
    "abc"
   ]
  },
  {
   "cell_type": "markdown",
   "id": "bdc65d43",
   "metadata": {},
   "source": [
    "### shape of abc is changed to 62 rows from 82 rows after droping outliers"
   ]
  },
  {
   "cell_type": "code",
   "execution_count": null,
   "id": "039c91da",
   "metadata": {},
   "outputs": [],
   "source": []
  },
  {
   "cell_type": "markdown",
   "id": "04ab768d",
   "metadata": {},
   "source": [
    "### DataFrame xyz"
   ]
  },
  {
   "cell_type": "code",
   "execution_count": 103,
   "id": "b3497836",
   "metadata": {},
   "outputs": [],
   "source": [
    "#detect outliers for column 'Time Spent on LG (in mins)'\n",
    "column_of_interest = 'Time Spent on LG (in mins)'\n",
    "\n",
    "# Detect outliers using the IQR method\n",
    "outliers_xyz_time = detect_outliers_iqr(xyz[column_of_interest])"
   ]
  },
  {
   "cell_type": "code",
   "execution_count": 104,
   "id": "1b34809e",
   "metadata": {},
   "outputs": [
    {
     "data": {
      "text/plain": [
       "0     180.0\n",
       "32    540.0\n",
       "49    600.0\n",
       "50    180.0\n",
       "51    240.0\n",
       "Name: Time Spent on LG (in mins), dtype: float64"
      ]
     },
     "execution_count": 104,
     "metadata": {},
     "output_type": "execute_result"
    }
   ],
   "source": [
    "outliers_xyz_time"
   ]
  },
  {
   "cell_type": "code",
   "execution_count": 105,
   "id": "98f2eed3",
   "metadata": {},
   "outputs": [],
   "source": [
    "xyz=xyz.drop(outliers_xyz_time.index)"
   ]
  },
  {
   "cell_type": "code",
   "execution_count": 106,
   "id": "1e87df89",
   "metadata": {},
   "outputs": [
    {
     "data": {
      "text/html": [
       "<div>\n",
       "<style scoped>\n",
       "    .dataframe tbody tr th:only-of-type {\n",
       "        vertical-align: middle;\n",
       "    }\n",
       "\n",
       "    .dataframe tbody tr th {\n",
       "        vertical-align: top;\n",
       "    }\n",
       "\n",
       "    .dataframe thead th {\n",
       "        text-align: right;\n",
       "    }\n",
       "</style>\n",
       "<table border=\"1\" class=\"dataframe\">\n",
       "  <thead>\n",
       "    <tr style=\"text-align: right;\">\n",
       "      <th></th>\n",
       "      <th>Date</th>\n",
       "      <th>No of Leads</th>\n",
       "      <th>Time Spent on LG (in mins)</th>\n",
       "    </tr>\n",
       "  </thead>\n",
       "  <tbody>\n",
       "    <tr>\n",
       "      <th>1</th>\n",
       "      <td>2023-01-10</td>\n",
       "      <td>15.0</td>\n",
       "      <td>300.0</td>\n",
       "    </tr>\n",
       "    <tr>\n",
       "      <th>2</th>\n",
       "      <td>2023-01-11</td>\n",
       "      <td>11.0</td>\n",
       "      <td>300.0</td>\n",
       "    </tr>\n",
       "    <tr>\n",
       "      <th>3</th>\n",
       "      <td>2023-01-12</td>\n",
       "      <td>11.0</td>\n",
       "      <td>300.0</td>\n",
       "    </tr>\n",
       "    <tr>\n",
       "      <th>4</th>\n",
       "      <td>2023-01-13</td>\n",
       "      <td>13.0</td>\n",
       "      <td>300.0</td>\n",
       "    </tr>\n",
       "    <tr>\n",
       "      <th>5</th>\n",
       "      <td>2023-01-14</td>\n",
       "      <td>NaN</td>\n",
       "      <td>NaN</td>\n",
       "    </tr>\n",
       "  </tbody>\n",
       "</table>\n",
       "</div>"
      ],
      "text/plain": [
       "        Date  No of Leads  Time Spent on LG (in mins)\n",
       "1 2023-01-10         15.0                       300.0\n",
       "2 2023-01-11         11.0                       300.0\n",
       "3 2023-01-12         11.0                       300.0\n",
       "4 2023-01-13         13.0                       300.0\n",
       "5 2023-01-14          NaN                         NaN"
      ]
     },
     "execution_count": 106,
     "metadata": {},
     "output_type": "execute_result"
    }
   ],
   "source": [
    "xyz.head()"
   ]
  },
  {
   "cell_type": "code",
   "execution_count": 107,
   "id": "b5b6e488",
   "metadata": {},
   "outputs": [
    {
     "data": {
      "text/plain": [
       "(56, 3)"
      ]
     },
     "execution_count": 107,
     "metadata": {},
     "output_type": "execute_result"
    }
   ],
   "source": [
    "xyz.shape"
   ]
  },
  {
   "cell_type": "code",
   "execution_count": 108,
   "id": "7007aa4b",
   "metadata": {},
   "outputs": [],
   "source": [
    "#detect outliers for column 'No of Leads'\n",
    "column_of_interest = 'No of Leads'\n",
    "\n",
    "# Detect outliers using the IQR method\n",
    "outliers_xyz_lead = detect_outliers_iqr(xyz[column_of_interest])"
   ]
  },
  {
   "cell_type": "code",
   "execution_count": 109,
   "id": "1b039ec3",
   "metadata": {},
   "outputs": [
    {
     "data": {
      "text/plain": [
       "Series([], Name: No of Leads, dtype: float64)"
      ]
     },
     "execution_count": 109,
     "metadata": {},
     "output_type": "execute_result"
    }
   ],
   "source": [
    "outliers_xyz_lead "
   ]
  },
  {
   "cell_type": "markdown",
   "id": "d576efdf",
   "metadata": {},
   "source": [
    "### shape of xyz reduced to 56 rows  from 61 rows after droping outliers"
   ]
  },
  {
   "cell_type": "code",
   "execution_count": null,
   "id": "58d086d5",
   "metadata": {},
   "outputs": [],
   "source": []
  },
  {
   "cell_type": "markdown",
   "id": "421e0114",
   "metadata": {},
   "source": [
    "## DataFrame klm"
   ]
  },
  {
   "cell_type": "code",
   "execution_count": 110,
   "id": "6716ec50",
   "metadata": {},
   "outputs": [],
   "source": [
    "#detect outliers for column 'No of Leads'\n",
    "column_of_interest = 'No of Leads'\n",
    "\n",
    "outliers_klm_lead = detect_outliers_iqr(klm[column_of_interest])"
   ]
  },
  {
   "cell_type": "code",
   "execution_count": 111,
   "id": "69f9c4a2",
   "metadata": {},
   "outputs": [
    {
     "data": {
      "text/plain": [
       "Series([], Name: No of Leads, dtype: float64)"
      ]
     },
     "execution_count": 111,
     "metadata": {},
     "output_type": "execute_result"
    }
   ],
   "source": [
    "outliers_klm_lead"
   ]
  },
  {
   "cell_type": "code",
   "execution_count": 112,
   "id": "f0aed446",
   "metadata": {},
   "outputs": [],
   "source": [
    "#detect outliers for column 'Time Spent on LG'\n",
    "column_of_interest = 'Time Spent on LG'\n",
    "\n",
    "# Detect outliers using the IQR method\n",
    "outliers_klm_time = detect_outliers_iqr(klm[column_of_interest])"
   ]
  },
  {
   "cell_type": "code",
   "execution_count": 113,
   "id": "646012b3",
   "metadata": {},
   "outputs": [
    {
     "data": {
      "text/plain": [
       "Series([], Name: Time Spent on LG, dtype: float64)"
      ]
     },
     "execution_count": 113,
     "metadata": {},
     "output_type": "execute_result"
    }
   ],
   "source": [
    "outliers_klm_time"
   ]
  },
  {
   "cell_type": "markdown",
   "id": "6a10d42c",
   "metadata": {},
   "source": [
    "### There is no outliers present in DataFrame klm"
   ]
  },
  {
   "cell_type": "code",
   "execution_count": null,
   "id": "fd1ac2ef",
   "metadata": {},
   "outputs": [],
   "source": []
  },
  {
   "cell_type": "markdown",
   "id": "9c1261d9",
   "metadata": {},
   "source": [
    "## Treating missing values \n",
    "### Checking Skewness & Summary of the DataFrame"
   ]
  },
  {
   "cell_type": "code",
   "execution_count": 114,
   "id": "3c195677",
   "metadata": {},
   "outputs": [
    {
     "data": {
      "text/plain": [
       "<AxesSubplot:xlabel='No of Leads', ylabel='Count'>"
      ]
     },
     "execution_count": 114,
     "metadata": {},
     "output_type": "execute_result"
    },
    {
     "data": {
      "image/png": "[encoded data removed]",
      "text/plain": [
       "<Figure size 432x288 with 1 Axes>"
      ]
     },
     "metadata": {
      "needs_background": "light"
     },
     "output_type": "display_data"
    }
   ],
   "source": [
    "sns.histplot(abc['No of Leads'], kde=True, color='blue', bins=30, label='Histogram')"
   ]
  },
  {
   "cell_type": "code",
   "execution_count": 115,
   "id": "cd13f924",
   "metadata": {},
   "outputs": [
    {
     "data": {
      "text/plain": [
       "<AxesSubplot:xlabel='Time Spent on LG (in mins)', ylabel='Count'>"
      ]
     },
     "execution_count": 115,
     "metadata": {},
     "output_type": "execute_result"
    },
    {
     "data": {
      "image/png": "[encoded data removed]",
      "text/plain": [
       "<Figure size 432x288 with 1 Axes>"
      ]
     },
     "metadata": {
      "needs_background": "light"
     },
     "output_type": "display_data"
    }
   ],
   "source": [
    "sns.histplot(abc['Time Spent on LG (in mins)'], kde=True, color='blue', bins=30, label='Histogram')"
   ]
  },
  {
   "cell_type": "code",
   "execution_count": 116,
   "id": "0f8997b5",
   "metadata": {},
   "outputs": [
    {
     "data": {
      "text/plain": [
       "<AxesSubplot:xlabel='No of Leads', ylabel='Count'>"
      ]
     },
     "execution_count": 116,
     "metadata": {},
     "output_type": "execute_result"
    },
    {
     "data": {
      "image/png": "[encoded data removed]",
      "text/plain": [
       "<Figure size 432x288 with 1 Axes>"
      ]
     },
     "metadata": {
      "needs_background": "light"
     },
     "output_type": "display_data"
    }
   ],
   "source": [
    "sns.histplot(xyz['No of Leads'], kde=True, color='blue', bins=30, label='Histogram')"
   ]
  },
  {
   "cell_type": "code",
   "execution_count": 117,
   "id": "c5136430",
   "metadata": {},
   "outputs": [
    {
     "data": {
      "text/plain": [
       "<AxesSubplot:xlabel='Time Spent on LG (in mins)', ylabel='Count'>"
      ]
     },
     "execution_count": 117,
     "metadata": {},
     "output_type": "execute_result"
    },
    {
     "data": {
      "image/png": "[encoded data removed]",
      "text/plain": [
       "<Figure size 432x288 with 1 Axes>"
      ]
     },
     "metadata": {
      "needs_background": "light"
     },
     "output_type": "display_data"
    }
   ],
   "source": [
    "sns.histplot(xyz['Time Spent on LG (in mins)'], kde=True, color='blue', bins=30, label='Histogram')"
   ]
  },
  {
   "cell_type": "code",
   "execution_count": 118,
   "id": "32b301b6",
   "metadata": {},
   "outputs": [
    {
     "data": {
      "text/plain": [
       "<AxesSubplot:xlabel='Time Spent on LG', ylabel='Count'>"
      ]
     },
     "execution_count": 118,
     "metadata": {},
     "output_type": "execute_result"
    },
    {
     "data": {
      "image/png": "[encoded data removed]",
      "text/plain": [
       "<Figure size 432x288 with 1 Axes>"
      ]
     },
     "metadata": {
      "needs_background": "light"
     },
     "output_type": "display_data"
    }
   ],
   "source": [
    "sns.histplot(klm['Time Spent on LG'], kde=True, color='blue', bins=30, label='Histogram')"
   ]
  },
  {
   "cell_type": "code",
   "execution_count": 119,
   "id": "31064f7e",
   "metadata": {},
   "outputs": [
    {
     "data": {
      "text/plain": [
       "<AxesSubplot:xlabel='No of Leads', ylabel='Count'>"
      ]
     },
     "execution_count": 119,
     "metadata": {},
     "output_type": "execute_result"
    },
    {
     "data": {
      "image/png": "[encoded data removed]",
      "text/plain": [
       "<Figure size 432x288 with 1 Axes>"
      ]
     },
     "metadata": {
      "needs_background": "light"
     },
     "output_type": "display_data"
    }
   ],
   "source": [
    "sns.histplot(klm['No of Leads'], kde=True, color='blue', bins=30, label='Histogram')"
   ]
  },
  {
   "cell_type": "code",
   "execution_count": 120,
   "id": "587e0a69",
   "metadata": {},
   "outputs": [
    {
     "data": {
      "text/html": [
       "<div>\n",
       "<style scoped>\n",
       "    .dataframe tbody tr th:only-of-type {\n",
       "        vertical-align: middle;\n",
       "    }\n",
       "\n",
       "    .dataframe tbody tr th {\n",
       "        vertical-align: top;\n",
       "    }\n",
       "\n",
       "    .dataframe thead th {\n",
       "        text-align: right;\n",
       "    }\n",
       "</style>\n",
       "<table border=\"1\" class=\"dataframe\">\n",
       "  <thead>\n",
       "    <tr style=\"text-align: right;\">\n",
       "      <th></th>\n",
       "      <th>No of Leads</th>\n",
       "      <th>Time Spent on LG (in mins)</th>\n",
       "    </tr>\n",
       "  </thead>\n",
       "  <tbody>\n",
       "    <tr>\n",
       "      <th>count</th>\n",
       "      <td>38.000000</td>\n",
       "      <td>38.000000</td>\n",
       "    </tr>\n",
       "    <tr>\n",
       "      <th>mean</th>\n",
       "      <td>6.421053</td>\n",
       "      <td>322.894737</td>\n",
       "    </tr>\n",
       "    <tr>\n",
       "      <th>std</th>\n",
       "      <td>3.887830</td>\n",
       "      <td>38.267048</td>\n",
       "    </tr>\n",
       "    <tr>\n",
       "      <th>min</th>\n",
       "      <td>0.000000</td>\n",
       "      <td>300.000000</td>\n",
       "    </tr>\n",
       "    <tr>\n",
       "      <th>25%</th>\n",
       "      <td>4.000000</td>\n",
       "      <td>300.000000</td>\n",
       "    </tr>\n",
       "    <tr>\n",
       "      <th>50%</th>\n",
       "      <td>6.000000</td>\n",
       "      <td>300.000000</td>\n",
       "    </tr>\n",
       "    <tr>\n",
       "      <th>75%</th>\n",
       "      <td>9.000000</td>\n",
       "      <td>360.000000</td>\n",
       "    </tr>\n",
       "    <tr>\n",
       "      <th>max</th>\n",
       "      <td>15.000000</td>\n",
       "      <td>420.000000</td>\n",
       "    </tr>\n",
       "  </tbody>\n",
       "</table>\n",
       "</div>"
      ],
      "text/plain": [
       "       No of Leads  Time Spent on LG (in mins)\n",
       "count    38.000000                   38.000000\n",
       "mean      6.421053                  322.894737\n",
       "std       3.887830                   38.267048\n",
       "min       0.000000                  300.000000\n",
       "25%       4.000000                  300.000000\n",
       "50%       6.000000                  300.000000\n",
       "75%       9.000000                  360.000000\n",
       "max      15.000000                  420.000000"
      ]
     },
     "execution_count": 120,
     "metadata": {},
     "output_type": "execute_result"
    }
   ],
   "source": [
    "abc.describe()"
   ]
  },
  {
   "cell_type": "code",
   "execution_count": 121,
   "id": "a5be9c1e",
   "metadata": {},
   "outputs": [
    {
     "data": {
      "text/html": [
       "<div>\n",
       "<style scoped>\n",
       "    .dataframe tbody tr th:only-of-type {\n",
       "        vertical-align: middle;\n",
       "    }\n",
       "\n",
       "    .dataframe tbody tr th {\n",
       "        vertical-align: top;\n",
       "    }\n",
       "\n",
       "    .dataframe thead th {\n",
       "        text-align: right;\n",
       "    }\n",
       "</style>\n",
       "<table border=\"1\" class=\"dataframe\">\n",
       "  <thead>\n",
       "    <tr style=\"text-align: right;\">\n",
       "      <th></th>\n",
       "      <th>No of Leads</th>\n",
       "      <th>Time Spent on LG (in mins)</th>\n",
       "    </tr>\n",
       "  </thead>\n",
       "  <tbody>\n",
       "    <tr>\n",
       "      <th>count</th>\n",
       "      <td>36.000000</td>\n",
       "      <td>36.000000</td>\n",
       "    </tr>\n",
       "    <tr>\n",
       "      <th>mean</th>\n",
       "      <td>11.000000</td>\n",
       "      <td>392.500000</td>\n",
       "    </tr>\n",
       "    <tr>\n",
       "      <th>std</th>\n",
       "      <td>2.484236</td>\n",
       "      <td>52.392748</td>\n",
       "    </tr>\n",
       "    <tr>\n",
       "      <th>min</th>\n",
       "      <td>7.000000</td>\n",
       "      <td>300.000000</td>\n",
       "    </tr>\n",
       "    <tr>\n",
       "      <th>25%</th>\n",
       "      <td>9.750000</td>\n",
       "      <td>360.000000</td>\n",
       "    </tr>\n",
       "    <tr>\n",
       "      <th>50%</th>\n",
       "      <td>10.000000</td>\n",
       "      <td>420.000000</td>\n",
       "    </tr>\n",
       "    <tr>\n",
       "      <th>75%</th>\n",
       "      <td>13.000000</td>\n",
       "      <td>420.000000</td>\n",
       "    </tr>\n",
       "    <tr>\n",
       "      <th>max</th>\n",
       "      <td>15.000000</td>\n",
       "      <td>480.000000</td>\n",
       "    </tr>\n",
       "  </tbody>\n",
       "</table>\n",
       "</div>"
      ],
      "text/plain": [
       "       No of Leads  Time Spent on LG (in mins)\n",
       "count    36.000000                   36.000000\n",
       "mean     11.000000                  392.500000\n",
       "std       2.484236                   52.392748\n",
       "min       7.000000                  300.000000\n",
       "25%       9.750000                  360.000000\n",
       "50%      10.000000                  420.000000\n",
       "75%      13.000000                  420.000000\n",
       "max      15.000000                  480.000000"
      ]
     },
     "execution_count": 121,
     "metadata": {},
     "output_type": "execute_result"
    }
   ],
   "source": [
    "xyz.describe()"
   ]
  },
  {
   "cell_type": "code",
   "execution_count": 122,
   "id": "8a8c78fb",
   "metadata": {},
   "outputs": [
    {
     "data": {
      "text/html": [
       "<div>\n",
       "<style scoped>\n",
       "    .dataframe tbody tr th:only-of-type {\n",
       "        vertical-align: middle;\n",
       "    }\n",
       "\n",
       "    .dataframe tbody tr th {\n",
       "        vertical-align: top;\n",
       "    }\n",
       "\n",
       "    .dataframe thead th {\n",
       "        text-align: right;\n",
       "    }\n",
       "</style>\n",
       "<table border=\"1\" class=\"dataframe\">\n",
       "  <thead>\n",
       "    <tr style=\"text-align: right;\">\n",
       "      <th></th>\n",
       "      <th>No of Leads</th>\n",
       "      <th>Time Spent on LG</th>\n",
       "    </tr>\n",
       "  </thead>\n",
       "  <tbody>\n",
       "    <tr>\n",
       "      <th>count</th>\n",
       "      <td>110.000000</td>\n",
       "      <td>107.000000</td>\n",
       "    </tr>\n",
       "    <tr>\n",
       "      <th>mean</th>\n",
       "      <td>9.736364</td>\n",
       "      <td>384.766355</td>\n",
       "    </tr>\n",
       "    <tr>\n",
       "      <th>std</th>\n",
       "      <td>4.355061</td>\n",
       "      <td>99.464090</td>\n",
       "    </tr>\n",
       "    <tr>\n",
       "      <th>min</th>\n",
       "      <td>0.000000</td>\n",
       "      <td>180.000000</td>\n",
       "    </tr>\n",
       "    <tr>\n",
       "      <th>25%</th>\n",
       "      <td>6.000000</td>\n",
       "      <td>300.000000</td>\n",
       "    </tr>\n",
       "    <tr>\n",
       "      <th>50%</th>\n",
       "      <td>10.000000</td>\n",
       "      <td>360.000000</td>\n",
       "    </tr>\n",
       "    <tr>\n",
       "      <th>75%</th>\n",
       "      <td>13.000000</td>\n",
       "      <td>450.000000</td>\n",
       "    </tr>\n",
       "    <tr>\n",
       "      <th>max</th>\n",
       "      <td>23.000000</td>\n",
       "      <td>540.000000</td>\n",
       "    </tr>\n",
       "  </tbody>\n",
       "</table>\n",
       "</div>"
      ],
      "text/plain": [
       "       No of Leads  Time Spent on LG\n",
       "count   110.000000        107.000000\n",
       "mean      9.736364        384.766355\n",
       "std       4.355061         99.464090\n",
       "min       0.000000        180.000000\n",
       "25%       6.000000        300.000000\n",
       "50%      10.000000        360.000000\n",
       "75%      13.000000        450.000000\n",
       "max      23.000000        540.000000"
      ]
     },
     "execution_count": 122,
     "metadata": {},
     "output_type": "execute_result"
    }
   ],
   "source": [
    "klm.describe()"
   ]
  },
  {
   "cell_type": "code",
   "execution_count": null,
   "id": "557cf5be",
   "metadata": {},
   "outputs": [],
   "source": []
  },
  {
   "cell_type": "code",
   "execution_count": 123,
   "id": "60f3e7c3",
   "metadata": {},
   "outputs": [],
   "source": [
    "from scipy.stats import skew"
   ]
  },
  {
   "cell_type": "code",
   "execution_count": 124,
   "id": "1bb97fee",
   "metadata": {},
   "outputs": [
    {
     "name": "stdout",
     "output_type": "stream",
     "text": [
      "[nan nan]\n"
     ]
    }
   ],
   "source": [
    "print(skew(abc[['No of Leads','Time Spent on LG (in mins)']]))"
   ]
  },
  {
   "cell_type": "code",
   "execution_count": 125,
   "id": "ae7ba4d9",
   "metadata": {},
   "outputs": [
    {
     "name": "stdout",
     "output_type": "stream",
     "text": [
      "[nan nan]\n"
     ]
    }
   ],
   "source": [
    "print(skew(xyz[['No of Leads','Time Spent on LG (in mins)']]))"
   ]
  },
  {
   "cell_type": "code",
   "execution_count": 126,
   "id": "0e34aefc",
   "metadata": {},
   "outputs": [
    {
     "name": "stdout",
     "output_type": "stream",
     "text": [
      "[nan nan]\n"
     ]
    }
   ],
   "source": [
    "print(skew(klm[['No of Leads','Time Spent on LG']]))"
   ]
  },
  {
   "cell_type": "code",
   "execution_count": null,
   "id": "93a9f422",
   "metadata": {},
   "outputs": [],
   "source": []
  },
  {
   "cell_type": "markdown",
   "id": "7a0bde56",
   "metadata": {},
   "source": [
    "## Now data is numerical and skewed"
   ]
  },
  {
   "cell_type": "code",
   "execution_count": null,
   "id": "d388cb38",
   "metadata": {},
   "outputs": [],
   "source": []
  },
  {
   "cell_type": "markdown",
   "id": "5ce5d5d7",
   "metadata": {},
   "source": [
    "## Filling missing values with median values"
   ]
  },
  {
   "cell_type": "code",
   "execution_count": 127,
   "id": "c6b82f2b",
   "metadata": {},
   "outputs": [],
   "source": [
    "abc['No of Leads']=abc['No of Leads'].fillna(abc['No of Leads'].mean())"
   ]
  },
  {
   "cell_type": "code",
   "execution_count": 128,
   "id": "31a47156",
   "metadata": {},
   "outputs": [],
   "source": [
    "abc['Time Spent on LG (in mins)']=abc['Time Spent on LG (in mins)'].fillna(abc['Time Spent on LG (in mins)'].median())"
   ]
  },
  {
   "cell_type": "code",
   "execution_count": 129,
   "id": "658c5b19",
   "metadata": {},
   "outputs": [
    {
     "data": {
      "text/html": [
       "<div>\n",
       "<style scoped>\n",
       "    .dataframe tbody tr th:only-of-type {\n",
       "        vertical-align: middle;\n",
       "    }\n",
       "\n",
       "    .dataframe tbody tr th {\n",
       "        vertical-align: top;\n",
       "    }\n",
       "\n",
       "    .dataframe thead th {\n",
       "        text-align: right;\n",
       "    }\n",
       "</style>\n",
       "<table border=\"1\" class=\"dataframe\">\n",
       "  <thead>\n",
       "    <tr style=\"text-align: right;\">\n",
       "      <th></th>\n",
       "      <th>Date</th>\n",
       "      <th>No of Leads</th>\n",
       "      <th>Time Spent on LG (in mins)</th>\n",
       "    </tr>\n",
       "  </thead>\n",
       "  <tbody>\n",
       "    <tr>\n",
       "      <th>0</th>\n",
       "      <td>2023-01-09</td>\n",
       "      <td>2.000000</td>\n",
       "      <td>300.0</td>\n",
       "    </tr>\n",
       "    <tr>\n",
       "      <th>1</th>\n",
       "      <td>2023-01-10</td>\n",
       "      <td>1.000000</td>\n",
       "      <td>300.0</td>\n",
       "    </tr>\n",
       "    <tr>\n",
       "      <th>2</th>\n",
       "      <td>2023-01-11</td>\n",
       "      <td>5.000000</td>\n",
       "      <td>300.0</td>\n",
       "    </tr>\n",
       "    <tr>\n",
       "      <th>3</th>\n",
       "      <td>2023-01-12</td>\n",
       "      <td>4.000000</td>\n",
       "      <td>300.0</td>\n",
       "    </tr>\n",
       "    <tr>\n",
       "      <th>4</th>\n",
       "      <td>2023-01-13</td>\n",
       "      <td>5.000000</td>\n",
       "      <td>300.0</td>\n",
       "    </tr>\n",
       "    <tr>\n",
       "      <th>...</th>\n",
       "      <td>...</td>\n",
       "      <td>...</td>\n",
       "      <td>...</td>\n",
       "    </tr>\n",
       "    <tr>\n",
       "      <th>67</th>\n",
       "      <td>2023-01-27</td>\n",
       "      <td>6.000000</td>\n",
       "      <td>400.0</td>\n",
       "    </tr>\n",
       "    <tr>\n",
       "      <th>68</th>\n",
       "      <td>2023-01-28</td>\n",
       "      <td>6.421053</td>\n",
       "      <td>300.0</td>\n",
       "    </tr>\n",
       "    <tr>\n",
       "      <th>69</th>\n",
       "      <td>2023-01-29</td>\n",
       "      <td>6.421053</td>\n",
       "      <td>300.0</td>\n",
       "    </tr>\n",
       "    <tr>\n",
       "      <th>75</th>\n",
       "      <td>2023-02-04</td>\n",
       "      <td>6.421053</td>\n",
       "      <td>300.0</td>\n",
       "    </tr>\n",
       "    <tr>\n",
       "      <th>76</th>\n",
       "      <td>2023-02-05</td>\n",
       "      <td>6.421053</td>\n",
       "      <td>300.0</td>\n",
       "    </tr>\n",
       "  </tbody>\n",
       "</table>\n",
       "<p>62 rows × 3 columns</p>\n",
       "</div>"
      ],
      "text/plain": [
       "         Date  No of Leads  Time Spent on LG (in mins)\n",
       "0  2023-01-09     2.000000                       300.0\n",
       "1  2023-01-10     1.000000                       300.0\n",
       "2  2023-01-11     5.000000                       300.0\n",
       "3  2023-01-12     4.000000                       300.0\n",
       "4  2023-01-13     5.000000                       300.0\n",
       "..        ...          ...                         ...\n",
       "67 2023-01-27     6.000000                       400.0\n",
       "68 2023-01-28     6.421053                       300.0\n",
       "69 2023-01-29     6.421053                       300.0\n",
       "75 2023-02-04     6.421053                       300.0\n",
       "76 2023-02-05     6.421053                       300.0\n",
       "\n",
       "[62 rows x 3 columns]"
      ]
     },
     "execution_count": 129,
     "metadata": {},
     "output_type": "execute_result"
    }
   ],
   "source": [
    "abc"
   ]
  },
  {
   "cell_type": "code",
   "execution_count": 130,
   "id": "d65bad3d",
   "metadata": {},
   "outputs": [],
   "source": [
    "xyz['No of Leads']=xyz['No of Leads'].fillna(xyz['No of Leads'].mean())"
   ]
  },
  {
   "cell_type": "code",
   "execution_count": 131,
   "id": "2e3774a6",
   "metadata": {},
   "outputs": [],
   "source": [
    "xyz['Time Spent on LG (in mins)']=xyz['Time Spent on LG (in mins)'].fillna(xyz['Time Spent on LG (in mins)'].median())"
   ]
  },
  {
   "cell_type": "code",
   "execution_count": 132,
   "id": "4162ebc3",
   "metadata": {},
   "outputs": [
    {
     "data": {
      "text/html": [
       "<div>\n",
       "<style scoped>\n",
       "    .dataframe tbody tr th:only-of-type {\n",
       "        vertical-align: middle;\n",
       "    }\n",
       "\n",
       "    .dataframe tbody tr th {\n",
       "        vertical-align: top;\n",
       "    }\n",
       "\n",
       "    .dataframe thead th {\n",
       "        text-align: right;\n",
       "    }\n",
       "</style>\n",
       "<table border=\"1\" class=\"dataframe\">\n",
       "  <thead>\n",
       "    <tr style=\"text-align: right;\">\n",
       "      <th></th>\n",
       "      <th>Date</th>\n",
       "      <th>No of Leads</th>\n",
       "      <th>Time Spent on LG (in mins)</th>\n",
       "    </tr>\n",
       "  </thead>\n",
       "  <tbody>\n",
       "    <tr>\n",
       "      <th>1</th>\n",
       "      <td>2023-01-10</td>\n",
       "      <td>15.0</td>\n",
       "      <td>300.0</td>\n",
       "    </tr>\n",
       "    <tr>\n",
       "      <th>2</th>\n",
       "      <td>2023-01-11</td>\n",
       "      <td>11.0</td>\n",
       "      <td>300.0</td>\n",
       "    </tr>\n",
       "    <tr>\n",
       "      <th>3</th>\n",
       "      <td>2023-01-12</td>\n",
       "      <td>11.0</td>\n",
       "      <td>300.0</td>\n",
       "    </tr>\n",
       "    <tr>\n",
       "      <th>4</th>\n",
       "      <td>2023-01-13</td>\n",
       "      <td>13.0</td>\n",
       "      <td>300.0</td>\n",
       "    </tr>\n",
       "    <tr>\n",
       "      <th>5</th>\n",
       "      <td>2023-01-14</td>\n",
       "      <td>11.0</td>\n",
       "      <td>420.0</td>\n",
       "    </tr>\n",
       "    <tr>\n",
       "      <th>6</th>\n",
       "      <td>2023-01-15</td>\n",
       "      <td>11.0</td>\n",
       "      <td>420.0</td>\n",
       "    </tr>\n",
       "    <tr>\n",
       "      <th>7</th>\n",
       "      <td>2023-01-16</td>\n",
       "      <td>8.0</td>\n",
       "      <td>390.0</td>\n",
       "    </tr>\n",
       "    <tr>\n",
       "      <th>8</th>\n",
       "      <td>2023-01-17</td>\n",
       "      <td>12.0</td>\n",
       "      <td>420.0</td>\n",
       "    </tr>\n",
       "    <tr>\n",
       "      <th>9</th>\n",
       "      <td>2023-01-18</td>\n",
       "      <td>15.0</td>\n",
       "      <td>420.0</td>\n",
       "    </tr>\n",
       "    <tr>\n",
       "      <th>10</th>\n",
       "      <td>2023-01-19</td>\n",
       "      <td>15.0</td>\n",
       "      <td>420.0</td>\n",
       "    </tr>\n",
       "  </tbody>\n",
       "</table>\n",
       "</div>"
      ],
      "text/plain": [
       "         Date  No of Leads  Time Spent on LG (in mins)\n",
       "1  2023-01-10         15.0                       300.0\n",
       "2  2023-01-11         11.0                       300.0\n",
       "3  2023-01-12         11.0                       300.0\n",
       "4  2023-01-13         13.0                       300.0\n",
       "5  2023-01-14         11.0                       420.0\n",
       "6  2023-01-15         11.0                       420.0\n",
       "7  2023-01-16          8.0                       390.0\n",
       "8  2023-01-17         12.0                       420.0\n",
       "9  2023-01-18         15.0                       420.0\n",
       "10 2023-01-19         15.0                       420.0"
      ]
     },
     "execution_count": 132,
     "metadata": {},
     "output_type": "execute_result"
    }
   ],
   "source": [
    "xyz.head(10)"
   ]
  },
  {
   "cell_type": "code",
   "execution_count": 133,
   "id": "b4378856",
   "metadata": {},
   "outputs": [],
   "source": [
    "klm['No of Leads']=klm['No of Leads'].fillna(klm['No of Leads'].mean())"
   ]
  },
  {
   "cell_type": "code",
   "execution_count": 134,
   "id": "c835feb9",
   "metadata": {},
   "outputs": [],
   "source": [
    "klm['Time Spent on LG']=klm['Time Spent on LG'].fillna(klm['Time Spent on LG'].median())"
   ]
  },
  {
   "cell_type": "code",
   "execution_count": 135,
   "id": "efcd0e76",
   "metadata": {},
   "outputs": [
    {
     "data": {
      "text/html": [
       "<div>\n",
       "<style scoped>\n",
       "    .dataframe tbody tr th:only-of-type {\n",
       "        vertical-align: middle;\n",
       "    }\n",
       "\n",
       "    .dataframe tbody tr th {\n",
       "        vertical-align: top;\n",
       "    }\n",
       "\n",
       "    .dataframe thead th {\n",
       "        text-align: right;\n",
       "    }\n",
       "</style>\n",
       "<table border=\"1\" class=\"dataframe\">\n",
       "  <thead>\n",
       "    <tr style=\"text-align: right;\">\n",
       "      <th></th>\n",
       "      <th>Date</th>\n",
       "      <th>No of Leads</th>\n",
       "      <th>Time Spent on LG</th>\n",
       "    </tr>\n",
       "  </thead>\n",
       "  <tbody>\n",
       "    <tr>\n",
       "      <th>0</th>\n",
       "      <td>2023-01-09</td>\n",
       "      <td>6.000000</td>\n",
       "      <td>540.0</td>\n",
       "    </tr>\n",
       "    <tr>\n",
       "      <th>1</th>\n",
       "      <td>2023-01-10</td>\n",
       "      <td>9.000000</td>\n",
       "      <td>540.0</td>\n",
       "    </tr>\n",
       "    <tr>\n",
       "      <th>2</th>\n",
       "      <td>2023-01-11</td>\n",
       "      <td>9.736364</td>\n",
       "      <td>360.0</td>\n",
       "    </tr>\n",
       "    <tr>\n",
       "      <th>3</th>\n",
       "      <td>2023-01-12</td>\n",
       "      <td>11.000000</td>\n",
       "      <td>540.0</td>\n",
       "    </tr>\n",
       "    <tr>\n",
       "      <th>4</th>\n",
       "      <td>2023-01-13</td>\n",
       "      <td>16.000000</td>\n",
       "      <td>540.0</td>\n",
       "    </tr>\n",
       "    <tr>\n",
       "      <th>...</th>\n",
       "      <td>...</td>\n",
       "      <td>...</td>\n",
       "      <td>...</td>\n",
       "    </tr>\n",
       "    <tr>\n",
       "      <th>119</th>\n",
       "      <td>2023-05-08</td>\n",
       "      <td>10.000000</td>\n",
       "      <td>420.0</td>\n",
       "    </tr>\n",
       "    <tr>\n",
       "      <th>120</th>\n",
       "      <td>2023-05-09</td>\n",
       "      <td>9.000000</td>\n",
       "      <td>540.0</td>\n",
       "    </tr>\n",
       "    <tr>\n",
       "      <th>121</th>\n",
       "      <td>2023-05-10</td>\n",
       "      <td>8.000000</td>\n",
       "      <td>360.0</td>\n",
       "    </tr>\n",
       "    <tr>\n",
       "      <th>122</th>\n",
       "      <td>2023-05-11</td>\n",
       "      <td>12.000000</td>\n",
       "      <td>420.0</td>\n",
       "    </tr>\n",
       "    <tr>\n",
       "      <th>123</th>\n",
       "      <td>2023-05-12</td>\n",
       "      <td>11.000000</td>\n",
       "      <td>300.0</td>\n",
       "    </tr>\n",
       "  </tbody>\n",
       "</table>\n",
       "<p>124 rows × 3 columns</p>\n",
       "</div>"
      ],
      "text/plain": [
       "          Date  No of Leads  Time Spent on LG\n",
       "0   2023-01-09     6.000000             540.0\n",
       "1   2023-01-10     9.000000             540.0\n",
       "2   2023-01-11     9.736364             360.0\n",
       "3   2023-01-12    11.000000             540.0\n",
       "4   2023-01-13    16.000000             540.0\n",
       "..         ...          ...               ...\n",
       "119 2023-05-08    10.000000             420.0\n",
       "120 2023-05-09     9.000000             540.0\n",
       "121 2023-05-10     8.000000             360.0\n",
       "122 2023-05-11    12.000000             420.0\n",
       "123 2023-05-12    11.000000             300.0\n",
       "\n",
       "[124 rows x 3 columns]"
      ]
     },
     "execution_count": 135,
     "metadata": {},
     "output_type": "execute_result"
    }
   ],
   "source": [
    "klm"
   ]
  },
  {
   "cell_type": "code",
   "execution_count": 136,
   "id": "98e6e588",
   "metadata": {},
   "outputs": [
    {
     "data": {
      "text/html": [
       "<div>\n",
       "<style scoped>\n",
       "    .dataframe tbody tr th:only-of-type {\n",
       "        vertical-align: middle;\n",
       "    }\n",
       "\n",
       "    .dataframe tbody tr th {\n",
       "        vertical-align: top;\n",
       "    }\n",
       "\n",
       "    .dataframe thead th {\n",
       "        text-align: right;\n",
       "    }\n",
       "</style>\n",
       "<table border=\"1\" class=\"dataframe\">\n",
       "  <thead>\n",
       "    <tr style=\"text-align: right;\">\n",
       "      <th></th>\n",
       "      <th>No of Leads</th>\n",
       "      <th>Time Spent on LG (in mins)</th>\n",
       "    </tr>\n",
       "  </thead>\n",
       "  <tbody>\n",
       "    <tr>\n",
       "      <th>count</th>\n",
       "      <td>62.000000</td>\n",
       "      <td>62.000000</td>\n",
       "    </tr>\n",
       "    <tr>\n",
       "      <th>mean</th>\n",
       "      <td>6.421053</td>\n",
       "      <td>314.032258</td>\n",
       "    </tr>\n",
       "    <tr>\n",
       "      <th>std</th>\n",
       "      <td>3.027912</td>\n",
       "      <td>31.853130</td>\n",
       "    </tr>\n",
       "    <tr>\n",
       "      <th>min</th>\n",
       "      <td>0.000000</td>\n",
       "      <td>300.000000</td>\n",
       "    </tr>\n",
       "    <tr>\n",
       "      <th>25%</th>\n",
       "      <td>5.000000</td>\n",
       "      <td>300.000000</td>\n",
       "    </tr>\n",
       "    <tr>\n",
       "      <th>50%</th>\n",
       "      <td>6.421053</td>\n",
       "      <td>300.000000</td>\n",
       "    </tr>\n",
       "    <tr>\n",
       "      <th>75%</th>\n",
       "      <td>7.000000</td>\n",
       "      <td>300.000000</td>\n",
       "    </tr>\n",
       "    <tr>\n",
       "      <th>max</th>\n",
       "      <td>15.000000</td>\n",
       "      <td>420.000000</td>\n",
       "    </tr>\n",
       "  </tbody>\n",
       "</table>\n",
       "</div>"
      ],
      "text/plain": [
       "       No of Leads  Time Spent on LG (in mins)\n",
       "count    62.000000                   62.000000\n",
       "mean      6.421053                  314.032258\n",
       "std       3.027912                   31.853130\n",
       "min       0.000000                  300.000000\n",
       "25%       5.000000                  300.000000\n",
       "50%       6.421053                  300.000000\n",
       "75%       7.000000                  300.000000\n",
       "max      15.000000                  420.000000"
      ]
     },
     "execution_count": 136,
     "metadata": {},
     "output_type": "execute_result"
    }
   ],
   "source": [
    "abc.describe()"
   ]
  },
  {
   "cell_type": "code",
   "execution_count": 137,
   "id": "670d1083",
   "metadata": {},
   "outputs": [
    {
     "data": {
      "text/html": [
       "<div>\n",
       "<style scoped>\n",
       "    .dataframe tbody tr th:only-of-type {\n",
       "        vertical-align: middle;\n",
       "    }\n",
       "\n",
       "    .dataframe tbody tr th {\n",
       "        vertical-align: top;\n",
       "    }\n",
       "\n",
       "    .dataframe thead th {\n",
       "        text-align: right;\n",
       "    }\n",
       "</style>\n",
       "<table border=\"1\" class=\"dataframe\">\n",
       "  <thead>\n",
       "    <tr style=\"text-align: right;\">\n",
       "      <th></th>\n",
       "      <th>No of Leads</th>\n",
       "      <th>Time Spent on LG (in mins)</th>\n",
       "    </tr>\n",
       "  </thead>\n",
       "  <tbody>\n",
       "    <tr>\n",
       "      <th>count</th>\n",
       "      <td>56.000000</td>\n",
       "      <td>56.000000</td>\n",
       "    </tr>\n",
       "    <tr>\n",
       "      <th>mean</th>\n",
       "      <td>11.000000</td>\n",
       "      <td>402.321429</td>\n",
       "    </tr>\n",
       "    <tr>\n",
       "      <th>std</th>\n",
       "      <td>1.981735</td>\n",
       "      <td>43.858909</td>\n",
       "    </tr>\n",
       "    <tr>\n",
       "      <th>min</th>\n",
       "      <td>7.000000</td>\n",
       "      <td>300.000000</td>\n",
       "    </tr>\n",
       "    <tr>\n",
       "      <th>25%</th>\n",
       "      <td>10.000000</td>\n",
       "      <td>412.500000</td>\n",
       "    </tr>\n",
       "    <tr>\n",
       "      <th>50%</th>\n",
       "      <td>11.000000</td>\n",
       "      <td>420.000000</td>\n",
       "    </tr>\n",
       "    <tr>\n",
       "      <th>75%</th>\n",
       "      <td>11.250000</td>\n",
       "      <td>420.000000</td>\n",
       "    </tr>\n",
       "    <tr>\n",
       "      <th>max</th>\n",
       "      <td>15.000000</td>\n",
       "      <td>480.000000</td>\n",
       "    </tr>\n",
       "  </tbody>\n",
       "</table>\n",
       "</div>"
      ],
      "text/plain": [
       "       No of Leads  Time Spent on LG (in mins)\n",
       "count    56.000000                   56.000000\n",
       "mean     11.000000                  402.321429\n",
       "std       1.981735                   43.858909\n",
       "min       7.000000                  300.000000\n",
       "25%      10.000000                  412.500000\n",
       "50%      11.000000                  420.000000\n",
       "75%      11.250000                  420.000000\n",
       "max      15.000000                  480.000000"
      ]
     },
     "execution_count": 137,
     "metadata": {},
     "output_type": "execute_result"
    }
   ],
   "source": [
    "xyz.describe()"
   ]
  },
  {
   "cell_type": "code",
   "execution_count": 138,
   "id": "bc219fc8",
   "metadata": {},
   "outputs": [
    {
     "data": {
      "text/html": [
       "<div>\n",
       "<style scoped>\n",
       "    .dataframe tbody tr th:only-of-type {\n",
       "        vertical-align: middle;\n",
       "    }\n",
       "\n",
       "    .dataframe tbody tr th {\n",
       "        vertical-align: top;\n",
       "    }\n",
       "\n",
       "    .dataframe thead th {\n",
       "        text-align: right;\n",
       "    }\n",
       "</style>\n",
       "<table border=\"1\" class=\"dataframe\">\n",
       "  <thead>\n",
       "    <tr style=\"text-align: right;\">\n",
       "      <th></th>\n",
       "      <th>No of Leads</th>\n",
       "      <th>Time Spent on LG</th>\n",
       "    </tr>\n",
       "  </thead>\n",
       "  <tbody>\n",
       "    <tr>\n",
       "      <th>count</th>\n",
       "      <td>124.000000</td>\n",
       "      <td>124.000000</td>\n",
       "    </tr>\n",
       "    <tr>\n",
       "      <th>mean</th>\n",
       "      <td>9.736364</td>\n",
       "      <td>381.370968</td>\n",
       "    </tr>\n",
       "    <tr>\n",
       "      <th>std</th>\n",
       "      <td>4.099727</td>\n",
       "      <td>92.730352</td>\n",
       "    </tr>\n",
       "    <tr>\n",
       "      <th>min</th>\n",
       "      <td>0.000000</td>\n",
       "      <td>180.000000</td>\n",
       "    </tr>\n",
       "    <tr>\n",
       "      <th>25%</th>\n",
       "      <td>6.000000</td>\n",
       "      <td>300.000000</td>\n",
       "    </tr>\n",
       "    <tr>\n",
       "      <th>50%</th>\n",
       "      <td>9.736364</td>\n",
       "      <td>360.000000</td>\n",
       "    </tr>\n",
       "    <tr>\n",
       "      <th>75%</th>\n",
       "      <td>13.000000</td>\n",
       "      <td>420.000000</td>\n",
       "    </tr>\n",
       "    <tr>\n",
       "      <th>max</th>\n",
       "      <td>23.000000</td>\n",
       "      <td>540.000000</td>\n",
       "    </tr>\n",
       "  </tbody>\n",
       "</table>\n",
       "</div>"
      ],
      "text/plain": [
       "       No of Leads  Time Spent on LG\n",
       "count   124.000000        124.000000\n",
       "mean      9.736364        381.370968\n",
       "std       4.099727         92.730352\n",
       "min       0.000000        180.000000\n",
       "25%       6.000000        300.000000\n",
       "50%       9.736364        360.000000\n",
       "75%      13.000000        420.000000\n",
       "max      23.000000        540.000000"
      ]
     },
     "execution_count": 138,
     "metadata": {},
     "output_type": "execute_result"
    }
   ],
   "source": [
    "klm.describe()"
   ]
  },
  {
   "cell_type": "code",
   "execution_count": 139,
   "id": "47c2a584",
   "metadata": {},
   "outputs": [],
   "source": [
    "abc.to_csv('abc.csv')"
   ]
  },
  {
   "cell_type": "code",
   "execution_count": 140,
   "id": "ff0cfbda",
   "metadata": {},
   "outputs": [],
   "source": [
    "xyz.to_csv('xyz.csv')"
   ]
  },
  {
   "cell_type": "code",
   "execution_count": 141,
   "id": "a9fff6dd",
   "metadata": {},
   "outputs": [],
   "source": [
    "klm.to_csv('klm.csv')"
   ]
  }
 ],
 "metadata": {
  "kernelspec": {
   "display_name": "Python 3 (ipykernel)",
   "language": "python",
   "name": "python3"
  },
  "language_info": {
   "codemirror_mode": {
    "name": "ipython",
    "version": 3
   },
   "file_extension": ".py",
   "mimetype": "text/x-python",
   "name": "python",
   "nbconvert_exporter": "python",
   "pygments_lexer": "ipython3",
   "version": "3.9.12"
  }
 },
 "nbformat": 4,
 "nbformat_minor": 5
}
